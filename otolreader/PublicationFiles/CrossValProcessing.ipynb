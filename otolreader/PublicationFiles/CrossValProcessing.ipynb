{
 "cells": [
  {
   "cell_type": "code",
   "execution_count": 70,
   "metadata": {},
   "outputs": [],
   "source": [
    "import os, shutil\n",
    "import pickle\n",
    "import tensorflow as tf\n",
    "from tensorflow import keras\n",
    "from tensorflow.keras.preprocessing import image\n",
    "import PIL\n",
    "import numpy as np\n",
    "import matplotlib.pyplot as plt\n",
    "import scipy.stats as st\n",
    "import matplotlib\n",
    "import otolreader as otolr\n",
    "import statsmodels.stats.proportion as ssp"
   ]
  },
  {
   "cell_type": "code",
   "execution_count": 2,
   "metadata": {},
   "outputs": [],
   "source": [
    "font = {'size'   : 14}\n",
    "matplotlib.rc('font', **font)"
   ]
  },
  {
   "cell_type": "markdown",
   "metadata": {},
   "source": [
    "## Image classification results"
   ]
  },
  {
   "cell_type": "code",
   "execution_count": 62,
   "metadata": {},
   "outputs": [],
   "source": [
    "basedir = '../../../OtolReader-Publication/Models'\n",
    "with open(os.path.join(basedir, 'crossval_order.p'), 'rb') as f:\n",
    "    cvorder = np.array(pickle.load(f))\n",
    "pdir = os.path.join(basedir, 'CrossVal-Binary-5classes-30Images')\n",
    "model_prefix = 'binarynet_'\n",
    "nim_fold = 15\n",
    "sampledir = os.path.join(basedir, 'CrossVal-ClassifierSampleTable')\n",
    "samps_prefix = 'ClassifierNetworkForSelection_SmoothedSamples_'\n",
    "retrained_dir = os.path.join(basedir, 'Retrained-Binary-Nets')\n",
    "classmod_name_base = os.path.join(basedir, 'CrossVal-Classifier-5classes-30Images', 'classnet_')\n",
    "imdir = '../../../Images/OtolithImages/'\n",
    "mark_list = ['3,5H10', '1,6H', 'none', '6,2H', '4n,2n,2H']\n",
    "fmod_name_base = os.path.join(retrained_dir, 'binarynet_')\n",
    "n_fold = 10"
   ]
  },
  {
   "cell_type": "code",
   "execution_count": 63,
   "metadata": {},
   "outputs": [
    {
     "name": "stdout",
     "output_type": "stream",
     "text": [
      "Currently evaluating fold number 0\n",
      "Currently evaluating fold number 1\n",
      "Currently evaluating fold number 2\n",
      "Currently evaluating fold number 3\n",
      "Currently evaluating fold number 4\n",
      "Currently evaluating fold number 5\n",
      "Currently evaluating fold number 6\n",
      "Currently evaluating fold number 7\n",
      "Currently evaluating fold number 8\n",
      "Currently evaluating fold number 9\n"
     ]
    }
   ],
   "source": [
    "y = []\n",
    "save_scores = []\n",
    "for fold_ind in range(n_fold):\n",
    "    print(\"Currently evaluating fold number {}\".format(fold_ind))\n",
    "    with open(os.path.join(sampledir, samps_prefix + str(fold_ind) + '.p'), 'rb') as f:\n",
    "        train_array = pickle.load(f)\n",
    "    mod = keras.models.load_model(fmod_name_base + str(fold_ind) + '.h5', compile=False)\n",
    "    for ind in range(fold_ind * nim_fold, (fold_ind + 1) * nim_fold):\n",
    "        samps = train_array[ind]\n",
    "        mark_ind, im_ind = otolr.OtolithAnalysis.feature_functions.fcn_mark_im_ind(cvorder[ind], 30)\n",
    "        if mark_ind == 2:\n",
    "            y.append(0)\n",
    "        else:\n",
    "            y.append(1)\n",
    "        scores = np.mean(mod.predict(np.expand_dims(samps, axis=2)), axis=0)\n",
    "        save_scores.append(scores)"
   ]
  },
  {
   "cell_type": "code",
   "execution_count": 67,
   "metadata": {},
   "outputs": [
    {
     "name": "stdout",
     "output_type": "stream",
     "text": [
      "Binary accuracy at expected optimal cutoff: 0.987\n"
     ]
    }
   ],
   "source": [
    "yhat = []\n",
    "for s in save_scores:\n",
    "    if s[0] > 0.2:\n",
    "        yhat.append(0)\n",
    "    else:\n",
    "        yhat.append(1)\n",
    "acc = np.sum(np.array(yhat)==np.array(y))/len(yhat)\n",
    "print('Binary accuracy at expected optimal cutoff: {:0.3f}'.format(acc))"
   ]
  },
  {
   "cell_type": "code",
   "execution_count": 68,
   "metadata": {},
   "outputs": [
    {
     "name": "stdout",
     "output_type": "stream",
     "text": [
      "Overall classification accuracy: 0.953\n",
      "Cross val accuracy by fold:  [0.93333333 1.         1.         1.         0.93333333 0.93333333\n",
      " 0.93333333 0.86666667 1.         0.93333333]\n"
     ]
    }
   ],
   "source": [
    "scbase = os.path.join(basedir, 'CrossVal-ClassifierSampleTable', 'ClassifierNetworkForSelection_Scores_')\n",
    "yhatclass = np.ones(150, dtype=int) * -1\n",
    "yhatfin = np.ones(150, dtype=int) * 2\n",
    "yfin = np.ones(150, dtype=int) * -1\n",
    "cvacc = np.zeros(n_fold)\n",
    "for fold_ind in range(n_fold):\n",
    "    with open(scbase + str(fold_ind) + '.p', 'rb') as f:\n",
    "        sc = pickle.load(f)\n",
    "    for ind in range(nim_fold * fold_ind, (fold_ind + 1) * nim_fold):\n",
    "        mark, im_ind = otolr.OtolithAnalysis.feature_functions.fcn_mark_im_ind(cvorder[ind], 30)\n",
    "        sctemp = np.average(sc[ind], axis=0)\n",
    "        yhatclass[ind] = np.argmax(sctemp)\n",
    "        if yhat[ind] != 0:\n",
    "            yhatfin[ind] = yhatclass[ind] \n",
    "        yfin[ind] = mark\n",
    "        if yhatfin[ind] == yfin[ind]:\n",
    "            cvacc[fold_ind] += 1 / nim_fold\n",
    "print('Overall classification accuracy: {:0.3f}'.format(np.sum(yhatfin==yfin) / len(yfin)))\n",
    "print(\"Cross val accuracy by fold: \", cvacc)"
   ]
  },
  {
   "cell_type": "code",
   "execution_count": 69,
   "metadata": {},
   "outputs": [
    {
     "name": "stdout",
     "output_type": "stream",
     "text": [
      "[[28.  1.  0.  0.  1.]\n",
      " [ 0. 29.  1.  0.  0.]\n",
      " [ 0.  0. 30.  0.  0.]\n",
      " [ 0.  0.  1. 29.  0.]\n",
      " [ 1.  2.  0.  0. 27.]]\n"
     ]
    }
   ],
   "source": [
    "conf = np.zeros([5, 5])\n",
    "for ind in range(len(yfin)):\n",
    "    conf[yfin[ind], yhatfin[ind]] += 1\n",
    "print(conf)"
   ]
  },
  {
   "cell_type": "code",
   "execution_count": 36,
   "metadata": {},
   "outputs": [
    {
     "name": "stdout",
     "output_type": "stream",
     "text": [
      "Evaluating image #14\n",
      "Expected mark: 3,5H10\n",
      "Estimated mark: 3,5H10\n"
     ]
    }
   ],
   "source": [
    "# test the image classfication function\n",
    "nm_model = keras.models.load_model(fmod_name_base + str(0) + '.h5', compile=False)\n",
    "class_model = keras.models.load_model(classmod_name_base + str(0) + '.h5', compile=False)\n",
    "im_ind = cvorder[0]\n",
    "print(\"Evaluating image #{:0.0f}\".format(im_ind))\n",
    "mark_ind, classed_im_ind = otolr.OtolithAnalysis.feature_functions.fcn_mark_im_ind(im_ind, 30)\n",
    "print(\"Expected mark: {}\".format(mark_list[mark_ind]))\n",
    "im_path = os.path.join(imdir, mark_list[mark_ind], str(classed_im_ind) + '.jpg')\n",
    "mark_hat = otolr.OtolithAnalysis.im_classifier.classify_image(im_path, class_model, nm_model, 0.2)\n",
    "print(\"Estimated mark: {}\".format(mark_hat))"
   ]
  },
  {
   "cell_type": "markdown",
   "metadata": {},
   "source": [
    "### Full test set"
   ]
  },
  {
   "cell_type": "code",
   "execution_count": 72,
   "metadata": {},
   "outputs": [],
   "source": [
    "basedir = '../../../OtolReader-Publication/Models/N-class-test-set/5 classes/'"
   ]
  },
  {
   "cell_type": "code",
   "execution_count": 73,
   "metadata": {},
   "outputs": [],
   "source": [
    "y = []\n",
    "yhat = []\n",
    "save_scores = []\n",
    "fmod_name = os.path.join(basedir, 'retrained_binary_net', 'binarynet_0.h5')\n",
    "mod = keras.models.load_model(fmod_name, compile=False)\n",
    "with open(os.path.join(basedir, 'samples.p'), 'rb') as f:\n",
    "    test_array = pickle.load(f)\n",
    "for ind in range(len(test_array)):\n",
    "    mark_ind, im_ind = otolr.OtolithAnalysis.feature_functions.fcn_mark_im_ind(ind, 20)\n",
    "    if mark_ind == 2:\n",
    "        y.append(0)\n",
    "    else:\n",
    "        y.append(1)\n",
    "    scores = np.mean(mod.predict(np.expand_dims(test_array[ind], axis=2)), axis=0)\n",
    "    save_scores.append(scores)"
   ]
  },
  {
   "cell_type": "code",
   "execution_count": 74,
   "metadata": {},
   "outputs": [
    {
     "name": "stdout",
     "output_type": "stream",
     "text": [
      "Binary accuracy at expected optimal cutoff: 0.960\n"
     ]
    }
   ],
   "source": [
    "yhat = []\n",
    "for s in save_scores:\n",
    "    if s[0] > 0.2:\n",
    "        yhat.append(0)\n",
    "    else:\n",
    "        yhat.append(1)\n",
    "acc = np.sum(np.array(yhat)==np.array(y))/len(yhat)\n",
    "print('Binary accuracy at expected optimal cutoff: {:0.3f}'.format(acc))"
   ]
  },
  {
   "cell_type": "code",
   "execution_count": 80,
   "metadata": {},
   "outputs": [
    {
     "name": "stdout",
     "output_type": "stream",
     "text": [
      "Overall classification accuracy: 0.930\n",
      "Confidence interval: -0.07, +0.04\n",
      "(0.8610802715441427, 0.9713947110925613)\n"
     ]
    }
   ],
   "source": [
    "# scpath = os.path.join(basedir, 'TestSetSamples/2019_08_26_ClassifierNetworkForSelection_Scores_0.p')\n",
    "scpath = os.path.join(basedir, 'scores.p')\n",
    "yhatclass = np.ones(100, dtype=int) * -1\n",
    "yhatfin = np.ones(100, dtype=int) * 2\n",
    "yfin = np.ones(100, dtype=int) * -1\n",
    "with open(scpath, 'rb') as f:\n",
    "    sc = pickle.load(f)\n",
    "for ind in range(100):\n",
    "    mark, im_ind = otolr.OtolithAnalysis.feature_functions.fcn_mark_im_ind(ind, 20)\n",
    "    sctemp = np.average(sc[ind], axis=0)\n",
    "    yhatclass[ind] = np.argmax(sctemp)\n",
    "    if yhat[ind] != 0:\n",
    "        yhatfin[ind] = yhatclass[ind] \n",
    "    yfin[ind] = mark\n",
    "acc = np.sum(yhatfin==yfin) / len(yfin)\n",
    "print('Overall classification accuracy: {:0.3f}'.format(acc))\n",
    "confint = ssp.proportion_confint(np.sum(yhatfin==yfin),len(yfin), method='beta')\n",
    "print(\"Confidence interval: -{:0.2f}, +{:0.2f}\".format(acc - confint[0], confint[1] - acc))"
   ]
  },
  {
   "cell_type": "code",
   "execution_count": 58,
   "metadata": {},
   "outputs": [
    {
     "name": "stdout",
     "output_type": "stream",
     "text": [
      "[[16.  0.  2.  2.  0.]\n",
      " [ 0. 19.  1.  0.  0.]\n",
      " [ 0.  1. 19.  0.  0.]\n",
      " [ 0.  0.  0. 19.  1.]\n",
      " [ 0.  0.  0.  0. 20.]]\n"
     ]
    }
   ],
   "source": [
    "conf = np.zeros([5, 5])\n",
    "for ind in range(len(yfin)):\n",
    "    conf[yfin[ind], yhatfin[ind]] += 1\n",
    "print(conf)"
   ]
  }
 ],
 "metadata": {
  "kernelspec": {
   "display_name": "Python 3",
   "language": "python",
   "name": "python3"
  },
  "language_info": {
   "codemirror_mode": {
    "name": "ipython",
    "version": 3
   },
   "file_extension": ".py",
   "mimetype": "text/x-python",
   "name": "python",
   "nbconvert_exporter": "python",
   "pygments_lexer": "ipython3",
   "version": "3.8.5"
  }
 },
 "nbformat": 4,
 "nbformat_minor": 4
}
