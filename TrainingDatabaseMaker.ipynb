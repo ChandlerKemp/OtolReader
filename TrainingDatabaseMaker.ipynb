{
 "cells": [
  {
   "cell_type": "markdown",
   "metadata": {},
   "source": [
    "# Introduction/Imports\n",
    "This notebook was used to generate positive and negative samples to train the network. For positive samples, the notebook uses tkinter to cycle through images from a directory and give a human a chance to click in the locations where the mark is detectable. The program draws a rectangle on the image indicating the sample it could save for that location. With confirmation from the human user, the program saves the sample.\n",
    "\n",
    "The program creates a directory for each image and stores all of the samples for one image in the same directory. If images with the same file name are processed, the program will overwrite existing results, so use caution! Negative samples are loaded directly from samples selected by the FFT method in earlier work.\n",
    "\n",
    "Before getting started, customize the values defined in the cell below."
   ]
  },
  {
   "cell_type": "code",
   "execution_count": 42,
   "metadata": {},
   "outputs": [],
   "source": [
    "import os\n",
    "# input_dir--the directory where training images are stored\n",
    "input_dir = os.path.join('..', 'Images', 'OtolithImages')\n",
    "# output_dir--the directory where the selected samples should be stored\n",
    "output_dir = 'SampleDatabase'\n",
    "# n_training_samples--the number of images in each class to pull training samples from\n",
    "n_training_samples = 30\n",
    "# mark_list--the list of marks to be considered\n",
    "mark_list = ['3,5H10', '1,6H', '6,2H', '4n,2n,2H']\n",
    "# user_cutoff--the maximum number of samples to be drawn from a single image\n",
    "user_cutoff = 34\n",
    "# sample_size--the shape of the samples to draw (height, width)\n",
    "sample_size = [800, 240]\n",
    "# n_none_samples--the number of none samples to draw per image\n",
    "n_none_samples = 120"
   ]
  },
  {
   "cell_type": "markdown",
   "metadata": {},
   "source": [
    "\n",
    "To generate the positive samples, run the imports and the mclass cell. Then define the mark class and image indexes you want to consider, and run the next cell. Click where you want a sample to be taken, then tell the program whether or not to save the rectangular sample it draws. Press enter to move to the next image."
   ]
  },
  {
   "cell_type": "code",
   "execution_count": 10,
   "metadata": {},
   "outputs": [],
   "source": [
    "import cv2 as cv\n",
    "import numpy as np\n",
    "import matplotlib.pyplot as plt\n",
    "import tkinter as tk\n",
    "from tkinter import messagebox\n",
    "from PIL import ImageTk, Image\n",
    "from matplotlib.backends.backend_tkagg import FigureCanvasTkAgg\n",
    "from matplotlib.figure import Figure\n",
    "import sys\n",
    "import imutils\n",
    "import pickle\n",
    "from OtolithAnalysis import feature_functions\n",
    "from OtolithAnalysis import fft"
   ]
  },
  {
   "cell_type": "code",
   "execution_count": 25,
   "metadata": {},
   "outputs": [],
   "source": [
    "class mclass:\n",
    "    def __init__(self,  window, mark_type, im_ind):\n",
    "        self.window = window\n",
    "        self.window.geometry(\"1300x900\")\n",
    "        self.sample_ind = 0\n",
    "        self.break_loop = False\n",
    "        self.window.winfo_toplevel().title(\"Image index \" + str(im_ind) + \n",
    "                                           ', Sample index ' + str(self.sample_ind))\n",
    "        self.scale_ratio = 5\n",
    "        self.xz = np.linspace(0, samplesize[0] - 1, sample_size[0])\n",
    "        self.se = np.array(sample_size)\n",
    "        self.fsize = (int(6000/self.scale_ratio),\n",
    "                      int(4000/self.scale_ratio))\n",
    "        self.fname = os.path.join(input_dir, mark_type,\n",
    "                                     str(im_ind) + '.jpg')\n",
    "        self.out_dir = os.path.join(output_dir, mark_type, str(im_ind))\n",
    "        self.mark_type=mark_type\n",
    "        self.im_ind = im_ind\n",
    "        self.img = cv.imread(self.fname, cv.IMREAD_GRAYSCALE)\n",
    "        self.plot(mark_type)\n",
    "        self.window.bind('<Return>', self.quit)\n",
    "        self.window.bind(\"<Button-1>\", self.make_sample)\n",
    "        self.wave_range = range(12,21)\n",
    "        \n",
    "    def plot(self, mark_type):\n",
    "        im = Image.open(self.fname)\n",
    "        im.thumbnail(self.fsize, Image.ANTIALIAS)\n",
    "        img = ImageTk.PhotoImage(im)\n",
    "        canvas = tk.Canvas(width=self.fsize[0], height=self.fsize[1], bg='black')\n",
    "        canvas.pack()\n",
    "        canvas.create_image(0, 0, image=img, anchor='nw')\n",
    "        self.imgpil = img\n",
    "        self.canvas = canvas\n",
    "        \n",
    "    def make_sample(self, event):\n",
    "        coords = np.array([event.x, event.y])\n",
    "        self.opt_angle(coords)\n",
    "        se = self.se / self.scale_ratio\n",
    "        h, w, = se[0] / 2, se[1] / 2\n",
    "        s, c = np.sin(self.angle_save), np.cos(self.angle_save)\n",
    "        x, y = np.zeros(4), np.zeros(4)\n",
    "        sign1, sign2 = np.array([1, 1, -1, -1]), [-1, 1, 1, -1]\n",
    "        for ind in range(len(sign1)):\n",
    "            x[ind] = event.x - sign1[ind] * h * s + sign2[ind] * w * c\n",
    "            y[ind] = event.y + sign1[ind] * h * c + sign2[ind] * w * s\n",
    "        for ind in range(0, 4):\n",
    "            ind2 = np.mod(ind + 1, 4)\n",
    "            self.canvas.create_line(x[ind], y[ind], x[ind2], y[ind2])\n",
    "        if messagebox.askyesno(\"Save?\", \"Save this sample?\"):\n",
    "            diag, xl, xh, yl, yh = self.img_corners(coords)\n",
    "            imtemp = imutils.rotate(self.img[yl:yh, xl:xh], self.angle_save)\n",
    "            xlow, xhigh, ylow, yhigh = feature_functions.high_low(diag, diag, \n",
    "                                                int(self.se[1]/2), \n",
    "                                                int(self.se[0]/2), \n",
    "                                                2 * np.array([diag, diag]))\n",
    "            sample = imtemp[ylow:yhigh, xlow:xhigh]\n",
    "            dirs, im = os.path.split(self.out_dir)\n",
    "            output_dir, mark = os.path.split(dirs)\n",
    "            if not os.path.isdir(output_dir):\n",
    "                os.mkdir(output_dir)\n",
    "            if self.mark_type not in os.listdir(output_dir):\n",
    "                os.mkdir(os.path.join(output_dir, mark))\n",
    "            if str(self.im_ind) not in os.listdir(os.path.join(output_dir, mark)):\n",
    "                os.mkdir(self.out_dir)\n",
    "            with open(os.path.join(self.out_dir, \n",
    "                                   str(self.sample_ind) + '.p'), \n",
    "                      'wb') as f:\n",
    "                pickle.dump(sample, f)\n",
    "            self.sample_ind += 1\n",
    "            if self.sample_ind >= 35:\n",
    "                self.quit()\n",
    "            self.window.winfo_toplevel().title(\"Image index \" + str(im_ind) + \n",
    "                               ', Sample index ' + str(self.sample_ind))\n",
    "    def opt_angle(self, coords):\n",
    "        angles = np.linspace(-90, 90, 9)\n",
    "        fft_save = 0\n",
    "        angle_save = 0\n",
    "        diag, xl, xh, yl, yh = self.img_corners(coords)\n",
    "        for angle in angles:\n",
    "            imtemp = imutils.rotate(self.img[yl:yh, xl:xh], angle)\n",
    "            xlow, xhigh, ylow, yhigh = feature_functions.high_low(diag, diag, \n",
    "                                                int(self.se[1]/2), \n",
    "                                                int(self.se[0]/2), \n",
    "                                                2 * np.array([diag, diag]))\n",
    "            f_fft = fft.fft_score(imtemp[ylow:yhigh, xlow:xhigh], \n",
    "                              self.xz, self.se, \n",
    "                            wave_range=self.wave_range, std_var=False)\n",
    "            if f_fft > fft_save:\n",
    "                angle_save = angle\n",
    "                fft_save = f_fft\n",
    "        self.angle_save = angle_save\n",
    "    \n",
    "    def img_corners(self, coords):\n",
    "        coords = self.scale_ratio * coords\n",
    "        diag = int(np.sqrt(self.se[0]**2 + self.se[1]**2) / 2)\n",
    "        xl = coords[0] - diag\n",
    "        xh = coords[0] + diag\n",
    "        yl = coords[1] - diag\n",
    "        yh = coords[1] + diag\n",
    "        return diag, xl, xh, yl, yh\n",
    "\n",
    "    def quit(self, event=None):\n",
    "        if not messagebox.askyesno(\"Next image?\", \"Proceed to the next image?\"):\n",
    "            self.break_loop = True\n",
    "        self.window.quit()\n",
    "        self.window.destroy()"
   ]
  },
  {
   "cell_type": "code",
   "execution_count": 26,
   "metadata": {},
   "outputs": [],
   "source": [
    "for mark_type in mark_list:\n",
    "    for im_ind in range(n_training_samples):\n",
    "        window= tk.Tk()\n",
    "        start = mclass(window, mark_type, im_ind)\n",
    "        start.window.mainloop()\n",
    "        if start.break_loop:\n",
    "            break"
   ]
  },
  {
   "cell_type": "code",
   "execution_count": 45,
   "metadata": {
    "collapsed": true
   },
   "outputs": [],
   "source": [
    "# This renames all of the sample files so that they\n",
    "# proceed from 0 to the number of samples -1 in order\n",
    "for mark in mark_list:\n",
    "    for im_ind in range(n_training_samples):\n",
    "        flist = os.listdir(os.path.join(output_dir, mark, str(im_ind)))\n",
    "        numarra = np.zeros(len(flist), dtype=int)\n",
    "        for ind in range(len(flist)):\n",
    "            temp = flist[ind]\n",
    "            temp = temp.split('.')\n",
    "            numarra[ind] = int(temp[0])\n",
    "        flist = np.array(flist)\n",
    "        flist = flist[np.argsort(numarra)]\n",
    "        counter = 0\n",
    "        for f in flist:\n",
    "            os.rename(os.path.join(output_dir, mark, \n",
    "                                   str(im_ind), f),\n",
    "                     os.path.join(output_dir, mark, \n",
    "                                  str(im_ind), str(counter)+'.p'))\n",
    "            counter += 1"
   ]
  },
  {
   "cell_type": "code",
   "execution_count": 65,
   "metadata": {},
   "outputs": [
    {
     "name": "stdout",
     "output_type": "stream",
     "text": [
      "3,5H10 894\n",
      "1,6H 847\n",
      "6,2H 898\n",
      "4n,2n,2H 827\n"
     ]
    }
   ],
   "source": [
    "def count_samples(mark):\n",
    "    counter = 0\n",
    "    for im_ind in range(n_training_samples):\n",
    "        dirname = os.path.join(output_dir, mark, str(im_ind))\n",
    "        counter += len(os.listdir(dirname))\n",
    "    return counter\n",
    "for mark in mark_list:\n",
    "    print(mark, count_samples(mark))"
   ]
  },
  {
   "cell_type": "code",
   "execution_count": 53,
   "metadata": {
    "collapsed": true
   },
   "outputs": [],
   "source": [
    "# Delete samples from images with too many samples\n",
    "for mark in mark_list:\n",
    "    cutoff = user_cutoff\n",
    "    while count_samples(mark) > 900:\n",
    "        for im_ind in range(n_training_samples):\n",
    "            dirname = os.path.join(output_dir, mark, str(im_ind))\n",
    "            if len(os.listdir(dirname)) > cutoff:\n",
    "                os.remove(os.path.join(dirname, str(cutoff) + '.p'))\n",
    "        cutoff -= 1"
   ]
  },
  {
   "cell_type": "markdown",
   "metadata": {},
   "source": [
    "# None samples\n",
    "the following two code cells randomly select unmarked samples from a directory within the input_dir directory named \"None\"."
   ]
  },
  {
   "cell_type": "code",
   "execution_count": 39,
   "metadata": {},
   "outputs": [],
   "source": [
    "nsamps = n_none_samps\n",
    "n_img = n_training_samples\n",
    "diag = int(np.sqrt(120**2 + 400**2)) + 1\n",
    "s_tab = []\n",
    "for im_ind in range(n_img):\n",
    "    s_tab.append(np.zeros([nsamps, 4]))\n",
    "    s_tab[-1][:, 2] = np.random.randint(-90, 90, size=nsamps, dtype=int)\n",
    "    s_tab[-1][:, 0] = np.random.randint(diag, 6000-diag, size=nsamps, dtype=int)\n",
    "    s_tab[-1][:, 1] = np.random.randint(diag, 4000-diag, size=nsamps, dtype=int)"
   ]
  },
  {
   "cell_type": "code",
   "execution_count": null,
   "metadata": {},
   "outputs": [],
   "source": [
    "if not os.path.isdir(output_dir):\n",
    "    os.mkdir(output_dir)\n",
    "if not os.path.isdir(os.path.join(output_dir, \"None\")):\n",
    "    os.mkdir(os.path.join(output_dir, \"None\"))\n",
    "for im_ind in range(n_training_samples):\n",
    "    print(im_ind)\n",
    "    img = cv.imread(os.path.join(input_dir, 'none', str(im_ind) + '.jpg'), \n",
    "                    cv.IMREAD_GRAYSCALE)\n",
    "    if not os.path.isdir(os.path.join(output_dir, 'None', str(im_ind))):\n",
    "        os.mkdir(os.path.join(output_dir, 'None', str(im_ind)))\n",
    "    samples = feature_functions.extract_samples_3(img, s_tab[im_ind], \n",
    "                                                     np.array(sample_size))\n",
    "    for s_ind in range(len(samples)):\n",
    "        samp = samples[s_ind]\n",
    "        fpath = os.path.join(output_dir, 'None', str(im_ind), \n",
    "                             str(s_ind) + '.p')\n",
    "        with open(fpath, 'wb') as f:\n",
    "            pickle.dump(samp, f)"
   ]
  }
 ],
 "metadata": {
  "kernelspec": {
   "display_name": "Python 3",
   "language": "python",
   "name": "python3"
  },
  "language_info": {
   "codemirror_mode": {
    "name": "ipython",
    "version": 3
   },
   "file_extension": ".py",
   "mimetype": "text/x-python",
   "name": "python",
   "nbconvert_exporter": "python",
   "pygments_lexer": "ipython3",
   "version": "3.7.6"
  }
 },
 "nbformat": 4,
 "nbformat_minor": 2
}
